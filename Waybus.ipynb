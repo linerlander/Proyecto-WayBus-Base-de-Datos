{
  "cells": [
    {
      "cell_type": "markdown",
      "metadata": {
        "id": "pjp50Vmnt3U3"
      },
      "source": [
        "# <p style=\"background-color:#6b28af;font-family:newtimeroman;color:#ffffff;font-size:150%;text-align:center;border-radius:10px 10px;\">Proyecto Final WayBus</p>\n",
        "---"
      ]
    },
    {
      "cell_type": "markdown",
      "metadata": {},
      "source": [
        "[![5d401fe2879be3d7dd5bb6e6-1.webp](https://i.postimg.cc/fR0mfydt/5d401fe2879be3d7dd5bb6e6-1.webp)](https://postimg.cc/VJmJYYDm)"
      ]
    },
    {
      "cell_type": "markdown",
      "metadata": {
        "id": "AsN-gFdnt3U6"
      },
      "source": [
        "<div class=\"alert alert-block alert-info\" style=\"margin-top: 20px\">\n",
        "\n",
        "<font size = 3>\n",
        "    \n",
        "1. <a href=\"#sec_1\">Planteamiento del problema</a>  \n",
        "2. <a href=\"#sec_2\">Esquema Conceptual</a>  \n",
        "3. <a href=\"#sec_3\">Esquema Lógico</a>  \n",
        "4. <a href=\"#sec_4\">Esquema Físico</a>  \n",
        "5. <a href=\"#sec_5\">Implementación de Base de Datos</a>  \n",
        "6. <a href=\"#sec_6\">Anexo</a> \n",
        "\n",
        "</font>\n",
        "</div>"
      ]
    },
    {
      "cell_type": "markdown",
      "metadata": {
        "id": "faly6gLTt3U7"
      },
      "source": [
        "<a id='sec_1'></a>\n",
        "## `1. Planteamiento del problema`\n",
        "\n",
        "La empresa de transporte interprovincial WayBus necesita gestionar su información de manera efectiva. La base de datos de la empresa contiene datos sobre clientes, vendedores, autobuses, rutas, ventas, detalles de ventas, y tipos de comprobantes. Esta base de datos es crucial para el funcionamiento eficiente de la empresa, ya que permite el seguimiento de las ventas, la gestión de los autobuses y sus rutas, así como el control de los clientes y vendedores.\n"
      ]
    },
    {
      "cell_type": "markdown",
      "metadata": {
        "id": "Y3Qklx_0t3U7"
      },
      "source": [
        "<a id='sec_2'></a>\n",
        "## `2. Esquema Conceptual`\n",
        "\n",
        "El objetivo de esta fase es poder hacer una representación gráfica que muestra las entidades, sus atributos y las relaciones entre ellas en nuestra base de datos\n",
        "\n"
      ]
    },
    {
      "cell_type": "markdown",
      "metadata": {
        "id": "hCcLIy9ht3U7"
      },
      "source": [
        "[![Esquema-conceptual.png](https://i.postimg.cc/qvWSzQ6C/Esquema-conceptual.png)](https://postimg.cc/QFk0zQbX)"
      ]
    },
    {
      "cell_type": "markdown",
      "metadata": {
        "id": "wUbuKURDt3U8"
      },
      "source": [
        ">**Observación**\n",
        ">- Como se puede observar el esquema conceptual es un paso muy importante para conocer más de cerca de los datos que tenemos en nuestra base de datos y parte de ello conocer un poco más del negocio"
      ]
    },
    {
      "cell_type": "markdown",
      "metadata": {
        "id": "EUuy3ZM4t3U8"
      },
      "source": [
        "<a id='sec_3'></a>\n",
        "## `3. Esquema Lógico`\n",
        "\n",
        "El esquema lógico es un diagrama que representa cómo se organiza y gestiona la información en un sistema. En WAYBUSS, se utiliza para estructurar los datos de reservas de autobuses, rutas, clientes y operaciones, facilitando la eficiencia en la gestión de servicios y asegurando que todos los procesos estén interconectados de manera coherente. Este esquema ayuda a optimizar la toma de decisiones y a mantener la integridad de la información en la empresa, de la misma forma es 1 de los pasos que se debe seguir antes de una implementación de una base de datos."
      ]
    },
    {
      "cell_type": "markdown",
      "metadata": {
        "id": "pphkey6vt3U8"
      },
      "source": [
        "[![Esquema-l-gico.png](https://i.postimg.cc/5tMQ9dgY/Esquema-l-gico.png)](https://postimg.cc/LJN8vWr2)"
      ]
    },
    {
      "cell_type": "markdown",
      "metadata": {
        "id": "iO8tk8kSt3U9"
      },
      "source": [
        "<a id='sec_3'></a>\n",
        "## `4. Esquema Físico`\n",
        "\n",
        "El esquema físico define cómo se almacenan los datos en el hardware, detallando aspectos como bases de datos, servidores y particiones. En WAYBUSS, la implentación de una base de datos y en base al esquema Físico ayudara a que se pueda describe la disposición real de los datos de clientes, rutas y reservas en servidores y sistemas de almacenamiento, garantizando acceso rápido y seguro. Este esquema optimiza la infraestructura tecnológica de la empresa, asegurando rendimiento y disponibilidad del servicio."
      ]
    },
    {
      "cell_type": "markdown",
      "metadata": {
        "id": "xfQqCqp7t3U9"
      },
      "source": [
        "[![esquema-f-sico.png](https://i.postimg.cc/MTT4v4Kx/esquema-f-sico.png)](https://postimg.cc/rdBgHfrY)"
      ]
    },
    {
      "cell_type": "markdown",
      "metadata": {
        "id": "CFO0DZelt3U9"
      },
      "source": [
        "<a id='sec_5'></a>\n",
        "## `5. Implementación de la Base de Datos`\n",
        "\n",
        "La implementación de la base de datos en WAYBUS nos permite centralizar y gestionar eficientemente toda la información sobre rutas, reservas y clientes. Facilita la integración de datos y mejora la toma de decisiones al proporcionar acceso rápido y seguro a la información. Esto optimiza las operaciones de la empresa, reduce errores y mejora la experiencia del usuario al ofrecer servicios más precisos y rápidos."
      ]
    },
    {
      "cell_type": "markdown",
      "metadata": {
        "id": "pGN-dNeTt3U9"
      },
      "source": [
        "**5.1 Crear la base de datos**"
      ]
    },
    {
      "cell_type": "code",
      "execution_count": null,
      "metadata": {
        "id": "58lccgfat3U9"
      },
      "outputs": [],
      "source": [
        "CREATE DATABASE waybuss_db;\n",
        "GO"
      ]
    },
    {
      "cell_type": "markdown",
      "metadata": {
        "id": "VZxoJTdvt3U-"
      },
      "source": [
        "**5.2 Usar la base de datos**"
      ]
    },
    {
      "cell_type": "code",
      "execution_count": null,
      "metadata": {
        "id": "06wyCJpkt3U-"
      },
      "outputs": [],
      "source": [
        "USE waybuss_db;\n",
        "GO"
      ]
    },
    {
      "cell_type": "markdown",
      "metadata": {
        "id": "1A4lY4LCt3U_"
      },
      "source": [
        "**5.3 Crear las Tablas**"
      ]
    },
    {
      "cell_type": "markdown",
      "metadata": {
        "id": "mbL742dzt3U_"
      },
      "source": [
        "*Tabla Cliente*"
      ]
    },
    {
      "cell_type": "code",
      "execution_count": null,
      "metadata": {
        "id": "lcs8wrTQt3U_"
      },
      "outputs": [],
      "source": [
        "CREATE TABLE Cliente (\n",
        "    Id_Cliente INT IDENTITY(1,1) PRIMARY KEY NOT NULL,\n",
        "    Numero_Documento NVARCHAR(12) NOT NULL UNIQUE,\n",
        "    Nombre NVARCHAR(120) NOT NULL,\n",
        "    Apellido_P NVARCHAR(80) NOT NULL,\n",
        "    Apellido_M NVARCHAR(80) NOT NULL,\n",
        "    Fecha_Nacimiento DATE NOT NULL,\n",
        "    Sexo NVARCHAR(1) NULL,\n",
        "    Numero_Movil INT NULL,\n",
        "    Correo NVARCHAR(50) NOT NULL UNIQUE\n",
        ")"
      ]
    },
    {
      "cell_type": "markdown",
      "metadata": {
        "id": "sDZKYraPt3U_"
      },
      "source": [
        "*Tabla Vendedor*"
      ]
    },
    {
      "cell_type": "code",
      "execution_count": null,
      "metadata": {
        "id": "9ZJ4oe8kt3U_"
      },
      "outputs": [],
      "source": [
        "CREATE TABLE Vendedor (\n",
        "    Id_Vendedor INT IDENTITY(1,1) PRIMARY KEY NOT NULL,\n",
        "    Dni INT NOT NULL UNIQUE,\n",
        "    Nombre NVARCHAR(120) NOT NULL,\n",
        "    Apellido_Paterno NVARCHAR(80) NOT NULL,\n",
        "    Apellido_Materno NVARCHAR(80) NOT NULL,\n",
        "    Fecha_Nacimiento DATE NOT NULL,\n",
        "    Numero_Movil INT NOT NULL,\n",
        "    Correo NVARCHAR(200) NULL,\n",
        "    Id_Supervisor INT,\n",
        "    CONSTRAINT fk_vendedor_supervisor FOREIGN KEY (Id_Supervisor) REFERENCES Vendedor(Id_Vendedor)\n",
        ")"
      ]
    },
    {
      "cell_type": "markdown",
      "metadata": {
        "id": "VmK65G8Qt3U_"
      },
      "source": [
        "*Tabla Ruta*"
      ]
    },
    {
      "cell_type": "code",
      "execution_count": null,
      "metadata": {
        "id": "lEXe8CvQt3U_"
      },
      "outputs": [],
      "source": [
        "CREATE TABLE Ruta (\n",
        "    Id_Ruta INT IDENTITY(1,1) PRIMARY KEY NOT NULL,\n",
        "    Origen NVARCHAR(120) NOT NULL,\n",
        "    Destino NVARCHAR(120) NOT NULL,\n",
        "    Horas_Viaje INT NOT NULL,\n",
        "    Paradas INT NOT NULL\n",
        ")"
      ]
    },
    {
      "cell_type": "markdown",
      "metadata": {
        "id": "gj3wBmjQt3U_"
      },
      "source": [
        "*Tabla Tipo_Comprobante*"
      ]
    },
    {
      "cell_type": "code",
      "execution_count": null,
      "metadata": {
        "id": "KvD-ytGlt3VA"
      },
      "outputs": [],
      "source": [
        "CREATE TABLE Tipo_Comprobante (\n",
        "    Id_Comprobante INT IDENTITY(1,1)  PRIMARY KEY NOT NULL,\n",
        "    Nombre NVARCHAR(100) NOT NULL\n",
        ")"
      ]
    },
    {
      "cell_type": "markdown",
      "metadata": {
        "id": "Y7Ah9zVot3VA"
      },
      "source": [
        "*Tabla Categoria_Buss*"
      ]
    },
    {
      "cell_type": "code",
      "execution_count": null,
      "metadata": {
        "id": "g5PUqx4vt3VA"
      },
      "outputs": [],
      "source": [
        "CREATE TABLE Categoria_Buss (\n",
        "    Id_Categoria_Buss INT IDENTITY(1,1) PRIMARY KEY NOT NULL,\n",
        "    Nombre NVARCHAR(120) NOT NULL UNIQUE,\n",
        "    Descripcion NVARCHAR(MAX) NOT NULL\n",
        ")"
      ]
    },
    {
      "cell_type": "markdown",
      "metadata": {
        "id": "zveA8h9Mt3VA"
      },
      "source": [
        "*Tabla Bus*"
      ]
    },
    {
      "cell_type": "code",
      "execution_count": null,
      "metadata": {
        "id": "MSiJTarQt3VA"
      },
      "outputs": [],
      "source": [
        "CREATE TABLE Bus (\n",
        "    Placa_Buss NVARCHAR(6) PRIMARY KEY NOT NULL,\n",
        "    Nombres_Piloto NVARCHAR(200) NOT NULL,\n",
        "    Apellidos_Piloto NVARCHAR(200) NOT NULL,\n",
        "    Nombres_Copiloto NVARCHAR(200) NOT NULL,\n",
        "    Apellidos_Copiloto NVARCHAR(200) NOT NULL,\n",
        "    Cap_Asientos INT NOT NULL,\n",
        "    Id_Categoria_Bus INT NOT NULL,\n",
        "    CONSTRAINT fk_bus_categoria_buss FOREIGN KEY (Id_Categoria_Bus) REFERENCES Categoria_Buss(Id_Categoria_Buss)\n",
        ")"
      ]
    },
    {
      "cell_type": "markdown",
      "metadata": {
        "id": "ui-kijFpt3VA"
      },
      "source": [
        "*Tabla Venta*"
      ]
    },
    {
      "cell_type": "code",
      "execution_count": null,
      "metadata": {
        "id": "84Zzw_wXt3VA"
      },
      "outputs": [],
      "source": [
        "CREATE TABLE Venta (\n",
        "    Id_Venta INT IDENTITY(1,1)PRIMARY KEY NOT NULL,\n",
        "    Id_Vendedor INT NOT NULL,\n",
        "    Fecha DATE NOT NULL,\n",
        "    Monto FLOAT NOT NULL,\n",
        "    Numero_Asiento INT NOT NULL,\n",
        "    Placa_Buss NVARCHAR(6) NOT NULL,\n",
        "    Id_Cliente INT NOT NULL,\n",
        "    Id_Ruta INT NOT NULL,\n",
        "    Id_Comprobante INT NOT NULL,\n",
        "    CONSTRAINT fk_venta_vendedor FOREIGN KEY (Id_Vendedor) REFERENCES Vendedor(Id_Vendedor),\n",
        "    CONSTRAINT fk_venta_bus FOREIGN KEY (Placa_Buss) REFERENCES Bus(Placa_Buss),\n",
        "    CONSTRAINT fk_venta_cliente FOREIGN KEY (Id_Cliente) REFERENCES Cliente(Id_Cliente),\n",
        "    CONSTRAINT fk_venta_ruta FOREIGN KEY (Id_Ruta) REFERENCES Ruta(Id_Ruta),\n",
        "    CONSTRAINT fk_venta_comprobante FOREIGN KEY (Id_Comprobante) REFERENCES Tipo_Comprobante(Id_Comprobante)\n",
        ")"
      ]
    },
    {
      "cell_type": "markdown",
      "metadata": {
        "id": "yjlryfWat3VA"
      },
      "source": [
        "*Tabla Detalle_Venta*"
      ]
    },
    {
      "cell_type": "code",
      "execution_count": null,
      "metadata": {
        "id": "1s2BbX4Et3VB"
      },
      "outputs": [],
      "source": [
        "CREATE TABLE Detalle_Venta (\n",
        "    Id_Venta INT NOT NULL PRIMARY KEY,\n",
        "    Precio FLOAT NOT NULL,\n",
        "    Razon_Social NVARCHAR(150) NOT NULL,\n",
        "    RUC INT NOT NULL,\n",
        "    Tipo_Pago NVARCHAR(80) NOT NULL,\n",
        "    CONSTRAINT fk_detalle_venta FOREIGN KEY (Id_Venta) REFERENCES Venta(Id_Venta) ON DELETE CASCADE\n",
        ");"
      ]
    },
    {
      "cell_type": "markdown",
      "metadata": {
        "id": "4raCrOwlt3VB"
      },
      "source": [
        "**5.4 Insercion de datos**"
      ]
    },
    {
      "cell_type": "markdown",
      "metadata": {
        "id": "pi7CShYdt3VB"
      },
      "source": [
        "*Inserción Cliente*"
      ]
    },
    {
      "cell_type": "code",
      "execution_count": null,
      "metadata": {
        "id": "Y_9OZPLBt3VB"
      },
      "outputs": [],
      "source": [
        "-- Inserción Cliente\n",
        "\n",
        "INSERT INTO Cliente (Numero_Documento, Nombre, Apellido_P, Apellido_M, Fecha_Nacimiento, Sexo, Numero_Movil, Correo)\n",
        "VALUES\n",
        "    ('ABC123456789', 'Juan', 'Pérez', 'García', '1985-07-15', 'M', 912345678, 'juan.perez@gmail.com'),\n",
        "    ('XYZ234567890', 'María', 'López', 'Martínez', '1990-08-22', 'F', 923456789, 'maria.lopez@hotmail.com'),\n",
        "    ('CDE345678901', 'Carlos', 'Sánchez', 'Hernández', '1987-01-10', NULL, 934567890, 'carlos.sanchez@yahoo.com'),\n",
        "    ('456789012345', 'Ana', 'González', 'Ruiz', '1995-02-14', 'F', 945678901, 'ana.gonzalez@gmail.com'),\n",
        "    ('567890123456', 'Luis', 'Rodríguez', 'Fernández', '1982-03-05', 'M', 956789012, 'luis.rodriguez@hotmail.com'),\n",
        "    ('678901234567', 'Elena', 'Martín', 'Gómez', '1993-11-29', NULL, 967890123, 'elena.martin@yahoo.com'),\n",
        "    ('789012345678', 'Miguel', 'Torres', 'Vega', '1980-06-18', 'M', 978901234, 'miguel.torres@gmail.com'),\n",
        "    ('890123456789', 'Laura', 'Romero', 'García', '1998-09-12', 'F', 989012345, 'laura.romero@hotmail.com'),\n",
        "    ('901234567890', 'Pedro', 'Vázquez', 'Mendoza', '1983-04-09', NULL, 990123456, 'pedro.vazquez@yahoo.com'),\n",
        "    ('ABC012345678', 'Sofía', 'Reyes', 'López', '1991-07-25', 'F', 901234567, 'sofia.reyes@gmail.com'),\n",
        "    ('DEF112345678', 'Fernando', 'Navarro', 'Morales', '1989-05-17', 'M', 912345679, 'fernando.navarro@hotmail.com'),\n",
        "    ('223456789012', 'Clara', 'Aguilar', 'Ortega', '1994-10-08', NULL, 923456780, 'clara.aguilar@yahoo.com'),\n",
        "    ('334567890123', 'Daniel', 'Méndez', 'Jiménez', '1986-11-22', 'M', 934567801, 'daniel.mendez@gmail.com'),\n",
        "    ('445678901234', 'Paula', 'Ortiz', 'Cruz', '1992-01-30', 'F', 945678912, 'paula.ortiz@hotmail.com'),\n",
        "    ('556789012345', 'Jorge', 'Silva', 'Ramos', '1984-12-20', 'M', 956789123, 'jorge.silva@yahoo.com'),\n",
        "    ('667890123456', 'Lucía', 'Rojas', 'Santos', '1996-08-05', 'F', 967890234, 'lucia.rojas@gmail.com'),\n",
        "    ('778901234567', 'Roberto', 'Herrera', 'Flores', '1988-03-25', 'M', 978901345, 'roberto.herrera@hotmail.com'),\n",
        "    ('889012345678', 'Marta', 'Castro', 'Ramírez', '1999-06-02', 'F', 989012456, 'marta.castro@yahoo.com'),\n",
        "    ('990123456789', 'Francisco', 'Gutiérrez', 'Díaz', '1981-09-27', 'M', 990123567, 'francisco.gutierrez@gmail.com'),\n",
        "    ('101234567890', 'Andrea', 'Ruiz', 'Ortiz', '1997-05-13', 'F', 912345678, 'andrea.ruiz@hotmail.com'),\n",
        "    ('211234567890', 'Manuel', 'Cano', 'Hidalgo', '1986-02-21', 'M', 923456789, 'manuel.cano@yahoo.com'),\n",
        "    ('322345678901', 'Rocío', 'Núñez', 'Gallego', '1990-12-04', 'F', 934567890, 'rocio.nunez@gmail.com'),\n",
        "    ('433456789012', 'Santiago', 'Moreno', 'Marín', '1984-06-14', 'M', 945678901, 'santiago.moreno@hotmail.com'),\n",
        "    ('544567890123', 'Alicia', 'Ramos', 'Garrido', '1993-03-18', 'F', 956789012, 'alicia.ramos@yahoo.com'),\n",
        "    ('655678901234', 'Alberto', 'Pena', 'Pascual', '1989-07-11', 'M', 967890123, 'alberto.pena@gmail.com'),\n",
        "    ('766789012345', 'Patricia', 'Soto', 'Medina', '1995-04-03', NULL, 978901234, 'patricia.soto@hotmail.com'),\n",
        "    ('877890123456', 'Diego', 'García', 'López', '1983-11-23', 'M', 989012345, 'diego.garcia@yahoo.com'),\n",
        "    ('988901234567', 'Silvia', 'Ortega', 'Molina', '1991-08-16', 'F', 990123456, 'silvia.ortega@gmail.com'),\n",
        "    ('099012345678', 'Juan', 'Martínez', 'Suárez', '1987-05-07', 'M', 912345678, 'juan.martinez@hotmail.com'),\n",
        "    ('110123456789', 'Elena', 'Gómez', 'Hernández', '1996-01-19', 'F', 923456789, 'elena.gomez@yahoo.com');\n",
        "GO\n"
      ]
    },
    {
      "cell_type": "markdown",
      "metadata": {
        "id": "FWtshu3Mt3VB"
      },
      "source": [
        "*Inserción Vendedor*"
      ]
    },
    {
      "cell_type": "code",
      "execution_count": null,
      "metadata": {
        "id": "3907cFM7t3VB"
      },
      "outputs": [],
      "source": [
        "INSERT INTO Vendedor (Dni, Nombre, Apellido_Paterno, Apellido_Materno, Fecha_Nacimiento, Numero_Movil, Correo, Id_Supervisor)\n",
        "VALUES\n",
        "    (12345678, 'Juan', 'López', 'García', '1987-05-15', 912345678, 'juan.lopez@gmail.com', NULL), -- Supervisor\n",
        "    (23456789, 'María', 'Martínez', 'Pérez', '1990-08-22', 923456789, 'maria.martinez@gmail.com', NULL) -- Supervisor\n",
        "GO\n",
        "\n",
        "INSERT INTO Vendedor (Dni, Nombre, Apellido_Paterno, Apellido_Materno, Fecha_Nacimiento, Numero_Movil, Correo, Id_Supervisor)\n",
        "VALUES(34567890, 'Carlos', 'Sánchez', 'Hernández', '1985-11-10', 934567890, 'carlos.sanchez@yahoo.com', 1),\n",
        "    (45678901, 'Ana', 'González', 'Ruiz', '1993-02-14', 945678901, NULL, 2),\n",
        "    (56789012, 'Luis', 'Rodríguez', 'Fernández', '1980-03-05', 956789012, 'luis.rodriguez@hotmail.com', 1),\n",
        "    (67890123, 'Elena', 'Gómez', 'Gutiérrez', '1995-11-29', 967890123, 'elena.gomez@yahoo.com', 2),\n",
        "    (78901234, 'Miguel', 'Torres', 'Vega', '1988-06-18', 978901234, NULL, 1),\n",
        "    (89012345, 'Laura', 'Romero', 'García', '1992-09-12', 989012345, 'laura.romero@hotmail.com', 2),\n",
        "    (90123456, 'Pedro', 'Vázquez', 'Mendoza', '1983-04-09', 990123456, 'pedro.vazquez@yahoo.com', 1),\n",
        "    (22334459, 'Fernando', 'Navarro', 'Morales', '1988-05-17', 912345678, 'fernando.navarro@hotmail.com', 1),\n",
        "    (33445566, 'Clara', 'Aguilar', 'Ortega', '1994-10-08', 923456789, NULL, 2),\n",
        "    (44556673, 'Daniel', 'Méndez', 'Jiménez', '1987-11-22', 934567890, 'daniel.mendez@gmail.com', 1),\n",
        "    (55667708, 'Paula', 'Ortiz', 'Cruz', '1991-01-30', 945678901, 'paula.ortiz@hotmail.com', 2),\n",
        "    (66778899, 'Jorge', 'Silva', 'Ramos', '1986-12-20', 956789012, NULL, 1),\n",
        "    (77889900, 'Lucía', 'Rojas', 'Santos', '1998-08-05', 967890123, 'lucia.rojas@gmail.com', 2),\n",
        "    (88990011, 'Roberto', 'Herrera', 'Flores', '1985-03-25', 978901234, 'roberto.herrera@hotmail.com', 1),\n",
        "    (99001022, 'Marta', 'Castro', 'Ramírez', '1997-06-02', 989012345, 'marta.castro@yahoo.com', 2),\n",
        "    (00112239, 'Francisco', 'Gutiérrez', 'Díaz', '1981-09-27', 990123456, NULL, 1),\n",
        "    (11223344, 'Andrea', 'Ruiz', 'Ortiz', '1995-05-13', 912345678, 'andrea.ruiz@hotmail.com', 2),\n",
        "    (22334455, 'Manuel', 'Cano', 'Hidalgo', '1983-02-21', 923456789, 'manuel.cano@yahoo.com', 1),\n",
        "    (33445596, 'Rocío', 'Núñez', 'Gallego', '1987-12-04', 934567890, 'rocio.nunez@gmail.com', 2),\n",
        "    (44556677, 'Santiago', 'Moreno', 'Marín', '1993-06-14', 945678901, NULL, 1),\n",
        "    (55667788, 'Alicia', 'Ramos', 'Garrido', '1989-03-18', 956789012, 'alicia.ramos@yahoo.com', 2),\n",
        "    (66778890, 'Alberto', 'Pena', 'Pascual', '1996-07-11', 967890123, 'alberto.pena@gmail.com', 1),\n",
        "    (77889600, 'Patricia', 'Soto', 'Medina', '1984-04-03', 978901234, NULL, 2),\n",
        "    (88990013, 'Diego', 'García', 'López', '1991-11-23', 989012345, 'diego.garcia@yahoo.com', 1),\n",
        "    (99001122, 'Silvia', 'Ortega', 'Molina', '1987-08-16', 990123456, 'silvia.ortega@gmail.com', 2),\n",
        "    (00112233, 'Juan', 'Martínez', 'Suárez', '1996-05-07', 912345678, 'juan.martinez@hotmail.com', 1);\n",
        "GO"
      ]
    },
    {
      "cell_type": "markdown",
      "metadata": {
        "id": "usuSgDqpt3VB"
      },
      "source": [
        "*Inserción Ruta*"
      ]
    },
    {
      "cell_type": "code",
      "execution_count": null,
      "metadata": {
        "id": "cBUCW1z4t3VC"
      },
      "outputs": [],
      "source": [
        "INSERT INTO Ruta (Origen, Destino, Horas_Viaje, Paradas)\n",
        "VALUES\n",
        "    ('Lima', 'Cusco', 22, 2),\n",
        "    ('Cusco', 'Lima', 22, 2),\n",
        "    ('Arequipa', 'Trujillo', 10, 1),\n",
        "    ('Trujillo', 'Arequipa', 10, 1),\n",
        "    ('Piura', 'Iquitos', 4, 0),\n",
        "    ('Iquitos', 'Piura', 4, 0),\n",
        "    ('Chiclayo', 'Tacna', 13, 2),\n",
        "    ('Tacna', 'Chiclayo', 13, 2),\n",
        "    ('Puno', 'Huaraz', 15, 2),\n",
        "    ('Huaraz', 'Puno', 15, 2),\n",
        "    ('Ica', 'Ayacucho', 10, 1),\n",
        "    ('Ayacucho', 'Ica', 10, 1),\n",
        "    ('Tarapoto', 'Chimbote', 8, 1),\n",
        "    ('Chimbote', 'Tarapoto', 8, 1),\n",
        "    ('Huancayo', 'Juliaca', 10, 2),\n",
        "    ('Juliaca', 'Huancayo', 10, 2),\n",
        "    ('Tumbes', 'Puerto Maldonado', 6, 1),\n",
        "    ('Puerto Maldonado', 'Tumbes', 6, 1),\n",
        "    ('Moquegua', 'Cajamarca', 14, 2),\n",
        "    ('Cajamarca', 'Moquegua', 14, 2),\n",
        "    ('Huaraz', 'Iquitos', 18, 2),\n",
        "    ('Iquitos', 'Huaraz', 18, 2),\n",
        "    ('Chiclayo', 'Ica', 11, 1),\n",
        "    ('Ica', 'Chiclayo', 11, 1);\n",
        "GO"
      ]
    },
    {
      "cell_type": "markdown",
      "metadata": {
        "id": "o6Scuukbt3VF"
      },
      "source": [
        "*Inserción Tipo_Comprobante*"
      ]
    },
    {
      "cell_type": "code",
      "execution_count": null,
      "metadata": {
        "id": "94uUz5x5t3VG"
      },
      "outputs": [],
      "source": [
        "INSERT INTO Tipo_Comprobante (Nombre)\n",
        "VALUES\n",
        "('Factura'),\n",
        "('Boleta de Venta')\n",
        "GO"
      ]
    },
    {
      "cell_type": "markdown",
      "metadata": {
        "id": "BpeKmEEAt3VG"
      },
      "source": [
        "*Inserción Categoria_Buss*"
      ]
    },
    {
      "cell_type": "code",
      "execution_count": null,
      "metadata": {
        "id": "L4RWXdUPt3VG"
      },
      "outputs": [],
      "source": [
        "INSERT INTO Categoria_Buss (Nombre, Descripcion)\n",
        "VALUES\n",
        "('Económico', 'Autobuses con servicios básicos, asientos no reclinables, sin aire acondicionado.'),\n",
        "('Semi-Cama', 'Autobuses con asientos semi-reclinables, aire acondicionado y servicios básicos.'),\n",
        "('Cama', 'Autobuses con asientos reclinables, aire acondicionado, entretenimiento a bordo y refrigerios.'),\n",
        "('VIP', 'Autobuses con asientos totalmente reclinables, aire acondicionado, servicio de catering y entretenimiento premium.'),\n",
        "('Doble Piso', 'Autobuses de dos niveles, con asientos semi-reclinables y reclinables, aire acondicionado y servicios adicionales.'),\n",
        "('Turístico', 'Autobuses destinados a tours turísticos, con asientos semi-reclinables, guía turístico y aire acondicionado.'),\n",
        "('Minibús', 'Autobuses de menor capacidad, con servicios básicos y aire acondicionado.'),\n",
        "('Ejecutivo', 'Autobuses con asientos reclinables, espacio adicional para las piernas, aire acondicionado y servicio de refrigerios.'),\n",
        "('Premium', 'Autobuses con lujo extremo, asientos reclinables, aire acondicionado, servicios de catering gourmet y entretenimiento exclusivo.'),\n",
        "('Express', 'Autobuses con menos paradas, servicios básicos, asientos semi-reclinables y aire acondicionado.');\n",
        "GO"
      ]
    },
    {
      "cell_type": "markdown",
      "metadata": {
        "id": "_GxfitgNt3VG"
      },
      "source": [
        "*Inserción Bus*"
      ]
    },
    {
      "cell_type": "code",
      "execution_count": null,
      "metadata": {
        "id": "9U7eTQ3Ct3VG"
      },
      "outputs": [],
      "source": [
        "INSERT INTO Bus (Placa_Buss, Nombres_Piloto, Apellidos_Piloto, Nombres_Copiloto, Apellidos_Copiloto, Cap_Asientos, Id_Categoria_Bus)\n",
        "VALUES\n",
        "('ABC123', 'Carlos', 'García', 'Juan', 'Pérez', 45, 1),\n",
        "('DEF456', 'Miguel', 'López', 'Pedro', 'Sánchez', 50, 2),\n",
        "('GHI789', 'José', 'Martínez', 'Luis', 'Ramírez', 40, 3),\n",
        "('JKL012', 'Ana', 'Torres', 'Marta', 'Hernández', 30, 4),\n",
        "('MNO345', 'Elena', 'Vásquez', 'Lucía', 'Gómez', 55, 5),\n",
        "('PQR678', 'Raúl', 'Díaz', 'Fernando', 'Rojas', 60, 6),\n",
        "('STU901', 'Jorge', 'Castro', 'Emilio', 'Fernández', 35, 7),\n",
        "('VWX234', 'Sofía', 'Cruz', 'Clara', 'Morales', 40, 8),\n",
        "('YZA567', 'María', 'Gutiérrez', 'Laura', 'Ortega', 50, 9),\n",
        "('BCD890', 'Andrés', 'Mendoza', 'Pablo', 'Ramos', 45, 10);\n",
        "GO"
      ]
    },
    {
      "cell_type": "markdown",
      "metadata": {
        "id": "RfTJckrXt3VG"
      },
      "source": [
        "*Inserción Venta*"
      ]
    },
    {
      "cell_type": "code",
      "execution_count": null,
      "metadata": {
        "id": "x_8y4edkt3VG"
      },
      "outputs": [],
      "source": [
        "-- Inserción Venta\n",
        "\n",
        "INSERT INTO Venta (Id_Vendedor, Fecha, Monto, Numero_Asiento, Placa_Buss, Id_Cliente, Id_Ruta, Id_Comprobante)\n",
        "VALUES\n",
        "    -- Ventas para la ruta 1 (Lima - Cusco) en abril\n",
        "    (3, '2023-04-05', 125.50, 15, 'ABC123', 2, 1, 1),\n",
        "    (5, '2023-04-05', 125.50, 8, 'ABC123', 4, 1, 2),\n",
        "    (3, '2023-04-05', 125.50, 20, 'ABC123', 6, 1, 1),\n",
        "    (5, '2023-04-05', 125.50, 12, 'ABC123', 8, 1, 1),\n",
        "    (3, '2023-04-05', 125.50, 10, 'ABC123', 10, 1, 2),\n",
        "    (5, '2023-04-05', 125.50, 18, 'ABC123', 12, 1, 1),\n",
        "    (3, '2023-04-05', 125.50, 14, 'ABC123', 14, 1, 2),\n",
        "    (5, '2023-04-05', 125.50, 6, 'ABC123', 16, 1, 1),\n",
        "    (3, '2023-04-05', 125.50, 22, 'ABC123', 18, 1, 2),\n",
        "    (5, '2023-04-05', 125.50, 16, 'ABC123', 20, 1, 1),\n",
        "\n",
        "\t-- Ventas para la ruta 2 (Lima - Trujillo) en abril\n",
        "    (4, '2023-04-08', 110.75, 10, 'GHI789', 3, 2, 1),\n",
        "    (6, '2023-04-08', 110.75, 8, 'GHI789', 5, 2, 2),\n",
        "    (4, '2023-04-08', 110.75, 12, 'GHI789', 7, 2, 1),\n",
        "    (6, '2023-04-08', 110.75, 14, 'GHI789', 9, 2, 2),\n",
        "    (4, '2023-04-08', 110.75, 16, 'GHI789', 11, 2, 1),\n",
        "    (6, '2023-04-08', 110.75, 18, 'GHI789', 13, 2, 2),\n",
        "    (4, '2023-04-08', 110.75, 20, 'GHI789', 15, 2, 1),\n",
        "    (6, '2023-04-08', 110.75, 22, 'GHI789', 17, 2, 2),\n",
        "    (4, '2023-04-08', 110.75, 24, 'GHI789', 19, 2, 1),\n",
        "    (6, '2023-04-08', 110.75, 26, 'GHI789', 21, 2, 2),\n",
        "\n",
        "    -- Ventas para la ruta 4 (Cusco - Lima) en abril\n",
        "    (4, '2023-04-10', 140.20, 19, 'ABC123', 1, 4, 1),\n",
        "    (6, '2023-04-10', 140.20, 11, 'ABC123', 2, 4, 2),\n",
        "    (4, '2023-04-10', 140.20, 13, 'ABC123', 3, 4, 1),\n",
        "    (6, '2023-04-10', 140.20, 9, 'ABC123', 5, 4, 2),\n",
        "    (4, '2023-04-10', 140.20, 21, 'ABC123', 7, 4, 1),\n",
        "    (6, '2023-04-10', 140.20, 17, 'ABC123', 6, 4, 2),\n",
        "    (4, '2023-04-10', 140.20, 14, 'ABC123', 4, 4, 1),\n",
        "    (6, '2023-04-10', 140.20, 7, 'ABC123', 9, 4, 2),\n",
        "    (4, '2023-04-10', 140.20, 23, 'ABC123', 20, 4, 1),\n",
        "    (6, '2023-04-10', 140.20, 5, 'ABC123', 26, 4, 2),\n",
        "\n",
        "\t-- Ventas para la ruta 5 (Arequipa - Cusco) en abril\n",
        "    (3, '2023-04-12', 90.00, 5, 'MNO345', 2, 5, 1),\n",
        "    (5, '2023-04-12', 90.00, 7, 'MNO345', 4, 5, 2),\n",
        "    (3, '2023-04-12', 90.00, 9, 'MNO345', 6, 5, 1),\n",
        "    (5, '2023-04-12', 90.00, 11, 'MNO345', 8, 5, 2),\n",
        "    (3, '2023-04-12', 90.00, 13, 'MNO345', 10, 5, 1),\n",
        "    (5, '2023-04-12', 90.00, 15, 'MNO345', 12, 5, 2),\n",
        "    (3, '2023-04-12', 90.00, 17, 'MNO345', 14, 5, 1),\n",
        "    (5, '2023-04-12', 90.00, 19, 'MNO345', 16, 5, 2),\n",
        "    (3, '2023-04-12', 90.00, 21, 'MNO345', 18, 5, 1),\n",
        "    (5, '2023-04-12', 90.00, 23, 'MNO345', 20, 5, 2),\n",
        "\n",
        "    -- Ventas para la ruta 7 (Lima - Arequipa) en abril\n",
        "    (3, '2023-04-15', 65.25, 12, 'JKL012', 2, 7, 1),\n",
        "    (5, '2023-04-15', 65.25, 8, 'JKL012', 4, 7, 2),\n",
        "    (3, '2023-04-15', 65.25, 16, 'JKL012', 10, 7, 1),\n",
        "    (5, '2023-04-15', 65.25, 10, 'JKL012', 12, 7, 2),\n",
        "    (3, '2023-04-15', 65.25, 18, 'JKL012', 22, 7, 1),\n",
        "    (5, '2023-04-15', 65.25, 6, 'JKL012', 20, 7, 2),\n",
        "    (3, '2023-04-15', 65.25, 24, 'JKL012', 10, 7, 1),\n",
        "    (5, '2023-04-15', 65.25, 13, 'JKL012', 3, 7, 2),\n",
        "    (3, '2023-04-15', 65.25, 19, 'JKL012', 8, 7, 1),\n",
        "    (5, '2023-04-15', 65.25, 7, 'JKL012', 13, 7, 2),\n",
        "\n",
        "\t-- Ventas para la ruta 8 (Arequipa - Tacna) en abril\n",
        "    (4, '2023-04-18', 75.60, 6, 'PQR678', 1, 8, 1),\n",
        "    (6, '2023-04-18', 75.60, 8, 'PQR678', 3, 8, 2),\n",
        "    (4, '2023-04-18', 75.60, 10, 'PQR678', 5, 8, 1),\n",
        "    (6, '2023-04-18', 75.60, 12, 'PQR678', 7, 8, 2),\n",
        "    (4, '2023-04-18', 75.60, 14, 'PQR678', 9, 8, 1),\n",
        "    (6, '2023-04-18', 75.60, 16, 'PQR678', 11, 8, 2),\n",
        "    (4, '2023-04-18', 75.60, 18, 'PQR678', 13, 8, 1),\n",
        "    (6, '2023-04-18', 75.60, 20, 'PQR678', 15, 8, 2),\n",
        "    (4, '2023-04-18', 75.60, 22, 'PQR678', 17, 8, 1),\n",
        "    (6, '2023-04-18', 75.60, 24, 'PQR678', 19, 8, 2);\n",
        "\n",
        "GO"
      ]
    },
    {
      "cell_type": "markdown",
      "metadata": {
        "id": "LHauCcHht3VH"
      },
      "source": [
        "*Inserción Detalle_Venta*"
      ]
    },
    {
      "cell_type": "code",
      "execution_count": null,
      "metadata": {
        "id": "LvygEKI7t3VH"
      },
      "outputs": [],
      "source": [
        "-- Inserción Detalle_Venta\n",
        "\n",
        "-- Ventas para la ruta 1 (Lima - Cusco) en abril\n",
        "\n",
        "INSERT INTO Detalle_Venta (Id_Venta, Precio, Razon_Social, RUC, Tipo_Pago)\n",
        "VALUES\n",
        "    (1, 125.50, 'WAYBUSS', 1234567890, 'Efectivo'),\n",
        "    (2, 125.50, 'WAYBUSS', 1234567890, 'Tarjeta'),\n",
        "    (3, 125.50, 'WAYBUSS', 1234567890, 'Efectivo'),\n",
        "    (4, 125.50, 'WAYBUSS', 1234567890, 'Efectivo'),\n",
        "    (5, 125.50, 'WAYBUSS', 1234567890, 'Tarjeta'),\n",
        "    (6, 125.50, 'WAYBUSS', 1234567890, 'Efectivo'),\n",
        "    (7, 125.50, 'WAYBUSS', 1234567890, 'Efectivo'),\n",
        "    (8, 125.50, 'WAYBUSS', 1234567890, 'Tarjeta'),\n",
        "    (9, 125.50, 'WAYBUSS', 1234567890, 'Efectivo'),\n",
        "    (10, 125.50, 'WAYBUSS', 1234567890, 'Tarjeta');\n",
        "GO\n",
        "\n",
        "-- Ventas para la ruta 2 (Lima - Trujillo) en abril\n",
        "INSERT INTO Detalle_Venta (Id_Venta, Precio, Razon_Social, RUC, Tipo_Pago)\n",
        "VALUES\n",
        "    (11, 110.75, 'WAYBUSS', 1234567890, 'Efectivo'),\n",
        "    (12, 110.75, 'WAYBUSS', 1234567890, 'Tarjeta'),\n",
        "    (13, 110.75, 'WAYBUSS', 1234567890, 'Efectivo'),\n",
        "    (14, 110.75, 'WAYBUSS', 1234567890, 'Efectivo'),\n",
        "    (15, 110.75, 'WAYBUSS', 1234567890, 'Tarjeta'),\n",
        "    (16, 110.75, 'WAYBUSS', 1234567890, 'Efectivo'),\n",
        "    (17, 110.75, 'WAYBUSS', 1234567890, 'Efectivo'),\n",
        "    (18, 110.75, 'WAYBUSS', 1234567890, 'Tarjeta'),\n",
        "    (19, 110.75, 'WAYBUSS', 1234567890, 'Efectivo'),\n",
        "    (20, 110.75, 'WAYBUSS', 1234567890, 'Tarjeta');\n",
        "GO\n",
        "\n",
        "-- Ventas para la ruta 4 (Cusco - Lima) en abril\n",
        "INSERT INTO Detalle_Venta (Id_Venta, Precio, Razon_Social, RUC, Tipo_Pago)\n",
        "VALUES\n",
        "    (21, 140.20, 'WAYBUSS', 1234567890, 'Efectivo'),\n",
        "    (22, 140.20, 'WAYBUSS', 1234567890, 'Tarjeta'),\n",
        "    (23, 140.20, 'WAYBUSS', 1234567890, 'Efectivo'),\n",
        "    (24, 140.20, 'WAYBUSS', 1234567890, 'Efectivo'),\n",
        "    (25, 140.20, 'WAYBUSS', 1234567890, 'Tarjeta'),\n",
        "    (26, 140.20, 'WAYBUSS', 1234567890, 'Efectivo'),\n",
        "    (27, 140.20, 'WAYBUSS', 1234567890, 'Efectivo'),\n",
        "    (28, 140.20, 'WAYBUSS', 1234567890, 'Tarjeta'),\n",
        "    (29, 140.20, 'WAYBUSS', 1234567890, 'Efectivo'),\n",
        "    (30, 140.20, 'WAYBUSS', 1234567890, 'Tarjeta');\n",
        "GO\n",
        "\n",
        "-- Ventas para la ruta 5 (Arequipa - Cusco) en abril\n",
        "INSERT INTO Detalle_Venta (Id_Venta, Precio, Razon_Social, RUC, Tipo_Pago)\n",
        "VALUES\n",
        "    (31, 90.00, 'WAYBUSS', 1234567890, 'Efectivo'),\n",
        "    (32, 90.00, 'WAYBUSS', 1234567890, 'Tarjeta'),\n",
        "    (33, 90.00, 'WAYBUSS', 1234567890, 'Efectivo'),\n",
        "    (34, 90.00, 'WAYBUSS', 1234567890, 'Efectivo'),\n",
        "    (35, 90.00, 'WAYBUSS', 1234567890, 'Tarjeta'),\n",
        "    (36, 90.00, 'WAYBUSS', 1234567890, 'Efectivo'),\n",
        "    (37, 90.00, 'WAYBUSS', 1234567890, 'Efectivo'),\n",
        "    (38, 90.00, 'WAYBUSS', 1234567890, 'Tarjeta'),\n",
        "    (39, 90.00, 'WAYBUSS', 1234567890, 'Efectivo'),\n",
        "    (40, 90.00, 'WAYBUSS', 1234567890, 'Tarjeta');\n",
        "GO\n",
        "\n",
        "-- Ventas para la ruta 7 (Lima - Arequipa) en abril\n",
        "INSERT INTO Detalle_Venta (Id_Venta, Precio, Razon_Social, RUC, Tipo_Pago)\n",
        "VALUES\n",
        "    (41, 65.25, 'WAYBUSS', 1234567890, 'Efectivo'),\n",
        "    (42, 65.25, 'WAYBUSS', 1234567890, 'Tarjeta'),\n",
        "    (43, 65.25, 'WAYBUSS', 1234567890, 'Efectivo'),\n",
        "    (44, 65.25, 'WAYBUSS', 1234567890, 'Efectivo'),\n",
        "    (45, 65.25, 'WAYBUSS', 1234567890, 'Tarjeta'),\n",
        "    (46, 65.25, 'WAYBUSS', 1234567890, 'Efectivo'),\n",
        "    (47, 65.25, 'WAYBUSS', 1234567890, 'Efectivo'),\n",
        "    (48, 65.25, 'WAYBUSS', 1234567890, 'Tarjeta'),\n",
        "    (49, 65.25, 'WAYBUSS', 1234567890, 'Efectivo'),\n",
        "    (50, 65.25, 'WAYBUSS', 1234567890, 'Tarjeta');\n",
        "GO\n",
        "\n",
        "-- Ventas para la ruta 8 (Arequipa - Tacna) en abril\n",
        "INSERT INTO Detalle_Venta (Id_Venta, Precio, Razon_Social, RUC, Tipo_Pago)\n",
        "VALUES\n",
        "    (51, 75.60, 'WAYBUSS', 1234567890, 'Efectivo'),\n",
        "    (52, 75.60, 'WAYBUSS', 1234567890, 'Tarjeta'),\n",
        "    (53, 75.60, 'WAYBUSS', 1234567890, 'Efectivo'),\n",
        "    (54, 75.60, 'WAYBUSS', 1234567890, 'Efectivo'),\n",
        "    (55, 75.60, 'WAYBUSS', 1234567890, 'Tarjeta'),\n",
        "    (56, 75.60, 'WAYBUSS', 1234567890, 'Efectivo'),\n",
        "    (57, 75.60, 'WAYBUSS', 1234567890, 'Efectivo'),\n",
        "    (58, 75.60, 'WAYBUSS', 1234567890, 'Tarjeta'),\n",
        "    (59, 75.60, 'WAYBUSS', 1234567890, 'Efectivo'),\n",
        "    (60, 75.60, 'WAYBUSS', 1234567890, 'Tarjeta');\n",
        "GO"
      ]
    },
    {
      "cell_type": "markdown",
      "metadata": {
        "id": "q7QDkl6nt3VH"
      },
      "source": [
        "<a id='sec_5'></a>\n",
        "## `6. Anexos`\n",
        "\n",
        "En esta sección se incluyen ejemplos detallados de consultas SQL utilizadas para obtener datos de ventas y rutas, funciones para cálculos específicos , procedimientos almacenados para automatizar tareas recurrentes y vistas que consolidan información crítica en una sola tabla virtual. Estas evidencias demuestran cómo la base de datos implementada soporta la operación diaria y la toma de decisiones, proporcionando herramientas eficientes y fiables para la gestión integral de la empresa."
      ]
    },
    {
      "cell_type": "markdown",
      "metadata": {
        "id": "OJ_4z_Qrt3VH"
      },
      "source": [
        "**6.1 Consultas**"
      ]
    },
    {
      "cell_type": "markdown",
      "metadata": {
        "id": "ciGtcaHMt3VH"
      },
      "source": [
        "N° 1 Ventas totales por tipo de comprobante y mes\n",
        "Esta consulta muestra la suma total de ventas agrupadas por tipo de comprobante y mes. Es útil para entender cómo varían las ventas a lo largo del año por cada tipo de documento emitido"
      ]
    },
    {
      "cell_type": "code",
      "execution_count": null,
      "metadata": {
        "id": "8arqupOyt3VI"
      },
      "outputs": [],
      "source": [
        "SELECT\n",
        "    MONTH(v.Fecha) AS Mes,\n",
        "    YEAR(v.Fecha) AS Año,\n",
        "    tc.Nombre AS Tipo_Comprobante,\n",
        "    COUNT(*) AS Cantidad_Ventas,\n",
        "    SUM(v.Monto) AS Total_Vendido\n",
        "FROM Venta as v\n",
        "INNER JOIN Tipo_Comprobante as tc\n",
        "ON v.Id_Comprobante = tc.Id_Comprobante\n",
        "GROUP BY MONTH(v.Fecha), YEAR(v.Fecha), tc.Nombre\n",
        "ORDER BY Año, Mes, Tipo_Comprobante;"
      ]
    },
    {
      "cell_type": "markdown",
      "metadata": {
        "id": "Ll6g-Y3Ut3VI"
      },
      "source": [
        "N° 2 Rutas con mayor número de ventas\n",
        "Esta consulta identifica las rutas con el mayor número de ventas registradas, ordenadas de mayor a menor. Es útil para determinar qué rutas son las más populares o más rentables"
      ]
    },
    {
      "cell_type": "code",
      "execution_count": null,
      "metadata": {
        "id": "EZmpHegKt3VI"
      },
      "outputs": [],
      "source": [
        "SELECT\n",
        "    r.Origen,\n",
        "    r.Destino,\n",
        "    COUNT(*) AS Numero_Ventas,\n",
        "    SUM(v.Monto) AS Total_Recaudado\n",
        "FROM Venta v\n",
        "INNER JOIN Ruta r ON v.Id_Ruta = r.Id_Ruta\n",
        "GROUP BY r.Origen, r.Destino\n",
        "ORDER BY Numero_Ventas DESC;"
      ]
    },
    {
      "cell_type": "markdown",
      "metadata": {
        "id": "TJxurn1at3VI"
      },
      "source": [
        "N° 3 Vendedores con mejor desempeño por cantidad de ventas\n",
        "Esta consulta muestra los vendedores que han realizado más ventas en términos de cantidad de boletos vendidos y total recaudado. Es útil para identificar a los vendedores más productivos"
      ]
    },
    {
      "cell_type": "code",
      "execution_count": null,
      "metadata": {
        "id": "nf3UCpmbt3VI"
      },
      "outputs": [],
      "source": [
        "SELECT\n",
        "    ve.Nombre,\n",
        "    ve.Apellido_Paterno,\n",
        "    ve.Apellido_Materno,\n",
        "    COUNT(*) AS Numero_Ventas,\n",
        "    SUM(v.Monto) AS Total_Recaudado\n",
        "FROM Venta v\n",
        "INNER JOIN Vendedor as ve\n",
        "ON v.Id_Vendedor = ve.Id_Vendedor\n",
        "GROUP BY ve.Nombre, ve.Apellido_Paterno, ve.Apellido_Materno\n",
        "ORDER BY Total_Recaudado DESC;"
      ]
    },
    {
      "cell_type": "markdown",
      "metadata": {
        "id": "lu6qJAG-t3VI"
      },
      "source": [
        "N° 4 Clientes que más han gastado en boletos\n",
        "Esta consulta muestra los 5 clientes que mas han gastado más dinero en viajar, ordenados de mayor a menor. Es útil para identificar a los clientes más valiosos o frecuentes"
      ]
    },
    {
      "cell_type": "code",
      "execution_count": null,
      "metadata": {
        "id": "x0dxx8W8t3VJ"
      },
      "outputs": [],
      "source": [
        "SELECT top(5)\n",
        "    cl.Nombre,\n",
        "    cl.Apellido_P,\n",
        "    cl.Apellido_M,\n",
        "    COUNT(*) AS Numero_Compras,\n",
        "    SUM(v.Monto) AS Total_Gastado\n",
        "FROM Venta v\n",
        "INNER JOIN Cliente cl\n",
        "ON v.Id_Cliente = cl.Id_Cliente\n",
        "GROUP BY cl.Nombre, cl.Apellido_P, cl.Apellido_M\n",
        "ORDER BY Total_Gastado DESC;"
      ]
    },
    {
      "cell_type": "markdown",
      "metadata": {
        "id": "K9FvcljUt3VJ"
      },
      "source": [
        "**6.2 Funciones**"
      ]
    },
    {
      "cell_type": "markdown",
      "metadata": {
        "id": "af8jJp1Exm_a"
      },
      "source": [
        "N° 1 Función para obtener el promedio de edad de los clientes\n",
        "Esta función calculará el promedio de edad de todos los clientes"
      ]
    },
    {
      "cell_type": "code",
      "execution_count": null,
      "metadata": {
        "id": "x-SlERirxpbH"
      },
      "outputs": [],
      "source": [
        "CREATE FUNCTION Obtener_Promedio_Edad_Clientes()\n",
        "RETURNS DECIMAL(10, 2)\n",
        "AS\n",
        "BEGIN\n",
        "    DECLARE @promedioEdad DECIMAL(10, 2);\n",
        "\n",
        "    SELECT @promedioEdad = AVG(DATEDIFF(YEAR, Fecha_Nacimiento, GETDATE()))\n",
        "    FROM Cliente;\n",
        "\n",
        "    RETURN ISNULL(@promedioEdad, 0);\n",
        "END;"
      ]
    },
    {
      "cell_type": "code",
      "execution_count": null,
      "metadata": {
        "id": "FpJw1e4qxtMV"
      },
      "outputs": [],
      "source": [
        "DECLARE @promedioEdad DECIMAL(10, 2);\n",
        "SET @promedioEdad = dbo.Obtener_Promedio_Edad_Clientes();\n",
        "SELECT @promedioEdad AS Promedio_Edad_Clientes;"
      ]
    },
    {
      "cell_type": "markdown",
      "metadata": {
        "id": "0cph-kENxuAG"
      },
      "source": [
        "N° 2 Función para obtener el monto total de ventas por vendedor\n",
        "Esta función calculará el monto total de ventas realizado por cada vendedor"
      ]
    },
    {
      "cell_type": "code",
      "execution_count": null,
      "metadata": {
        "id": "72QghSj3xxC4"
      },
      "outputs": [],
      "source": [
        "CREATE FUNCTION Obtener_Monto_Total_Ventas_Por_Vendedor(@idVendedor INT)\n",
        "RETURNS DECIMAL(10, 2)\n",
        "AS\n",
        "BEGIN\n",
        "    DECLARE @montoTotal DECIMAL(10, 2);\n",
        "\n",
        "    SELECT @montoTotal = SUM(Monto)\n",
        "    FROM Venta\n",
        "    WHERE Id_Vendedor = @idVendedor;\n",
        "\n",
        "    RETURN ISNULL(@montoTotal, 0);\n",
        "END;"
      ]
    },
    {
      "cell_type": "code",
      "execution_count": null,
      "metadata": {
        "id": "wwaLgpQXxzCq"
      },
      "outputs": [],
      "source": [
        "DECLARE @resultado DECIMAL(10, 2);\n",
        "SET @resultado = dbo.Obtener_Monto_Total_Ventas_Por_Vendedor(5);\n",
        "SELECT @resultado AS Monto_Total_Ventas;"
      ]
    },
    {
      "cell_type": "markdown",
      "metadata": {
        "id": "R04abPrYt3VJ"
      },
      "source": [
        "**6.3 Procedimientos almacenados**"
      ]
    },
    {
      "cell_type": "markdown",
      "metadata": {
        "id": "TktUB-tM3_DG"
      },
      "source": [
        "N° 1 Procedimiento para obtener el total de ventas por cliente"
      ]
    },
    {
      "cell_type": "code",
      "execution_count": null,
      "metadata": {
        "id": "JAVk_x-I4CHY"
      },
      "outputs": [],
      "source": [
        "CREATE PROCEDURE sp_Total_Ventas_Por_Cliente\n",
        "AS\n",
        "BEGIN\n",
        "    SELECT\n",
        "        c.Nombre,\n",
        "        SUM(v.Monto) AS TotalVentas\n",
        "    FROM\n",
        "        Venta as v\n",
        "    INNER JOIN\n",
        "        Cliente as c\n",
        "\tON v.Id_Cliente = c.Id_Cliente\n",
        "    GROUP BY\n",
        "        c.Nombre;\n",
        "END;"
      ]
    },
    {
      "cell_type": "code",
      "execution_count": null,
      "metadata": {
        "id": "KKc6PUvJ4EBx"
      },
      "outputs": [],
      "source": [
        "EXEC sp_Total_Ventas_Por_Cliente;\n",
        "go"
      ]
    },
    {
      "cell_type": "markdown",
      "metadata": {
        "id": "JE60bmI54Fy7"
      },
      "source": [
        "N° 2 Procedimiento para generar un reporte de ventas mensuales"
      ]
    },
    {
      "cell_type": "code",
      "execution_count": null,
      "metadata": {
        "id": "kuojnAly4IxT"
      },
      "outputs": [],
      "source": [
        "CREATE PROCEDURE sp_Reporte_Ventas_Mensuales\n",
        "    @Mes INT,\n",
        "    @Anio INT\n",
        "AS\n",
        "BEGIN\n",
        "    SELECT\n",
        "        MONTH(v.Fecha) AS Mes,\n",
        "        YEAR(v.Fecha) AS Anio,\n",
        "        SUM(v.Monto) AS TotalVentas\n",
        "    FROM\n",
        "        Venta v\n",
        "    WHERE\n",
        "        MONTH(v.Fecha) = @Mes\n",
        "        AND YEAR(v.Fecha) = @Anio\n",
        "    GROUP BY\n",
        "        MONTH(v.Fecha), YEAR(v.Fecha);\n",
        "END;\n",
        "go"
      ]
    },
    {
      "cell_type": "code",
      "execution_count": null,
      "metadata": {
        "id": "pVeFkLtA4L1A"
      },
      "outputs": [],
      "source": [
        "EXEC sp_Reporte_Ventas_Mensuales @Mes = 4, @Anio = 2023;"
      ]
    },
    {
      "cell_type": "markdown",
      "metadata": {
        "id": "mW_Ot_3lt3VJ"
      },
      "source": [
        "**6.4 Vistas**"
      ]
    },
    {
      "cell_type": "markdown",
      "metadata": {
        "id": "YV4A0OQf7t_Q"
      },
      "source": [
        "N° 1 Vista Cliente"
      ]
    },
    {
      "cell_type": "code",
      "execution_count": null,
      "metadata": {
        "id": "DtX7JFYv7xGr"
      },
      "outputs": [],
      "source": [
        "CREATE VIEW Vista_Clientes AS\n",
        "SELECT Numero_Documento, Nombre, Apellido_P, Apellido_M, Fecha_Nacimiento, Sexo, Numero_Movil, Correo\n",
        "FROM Cliente\n",
        "go\n",
        "\n",
        "SELECT *\n",
        "FROM Vista_Clientes;\n",
        "go"
      ]
    },
    {
      "cell_type": "markdown",
      "metadata": {
        "id": "Ew3G0KNV70hO"
      },
      "source": [
        "N° 2 Vista Vendedores"
      ]
    },
    {
      "cell_type": "code",
      "execution_count": null,
      "metadata": {
        "id": "hub-PhtD72Gh"
      },
      "outputs": [],
      "source": [
        "CREATE VIEW Vista_Vendedores AS\n",
        "SELECT Dni, Nombre, Apellido_Paterno, Apellido_Materno, Fecha_Nacimiento, Numero_Movil, Correo, Id_Supervisor\n",
        "FROM Vendedor\n",
        "go\n",
        "\n",
        "SELECT *\n",
        "FROM Vista_Vendedores;\n",
        "go"
      ]
    },
    {
      "cell_type": "markdown",
      "metadata": {
        "id": "bri9pbu473zv"
      },
      "source": [
        "N° 3 Vista Rutas"
      ]
    },
    {
      "cell_type": "code",
      "execution_count": null,
      "metadata": {
        "id": "96YX3-m075wc"
      },
      "outputs": [],
      "source": [
        "CREATE VIEW Vista_Rutas AS\n",
        "SELECT Id_Ruta, Origen, Destino, Horas_Viaje, Paradas\n",
        "FROM Ruta;\n",
        "go\n",
        "\n",
        "SELECT *\n",
        "FROM Vista_Rutas;\n",
        "go"
      ]
    },
    {
      "cell_type": "markdown",
      "metadata": {
        "id": "OXVBeGbb78LC"
      },
      "source": [
        "N° 4 Vista Buses con su respectiva Categoría"
      ]
    },
    {
      "cell_type": "code",
      "execution_count": null,
      "metadata": {
        "id": "Qxa-hoCo7-GB"
      },
      "outputs": [],
      "source": [
        "CREATE VIEW Vista_Buses AS\n",
        "SELECT Placa_Buss, Nombres_Piloto, Apellidos_Piloto, Nombres_Copiloto, Apellidos_Copiloto, Cap_Asientos, cb.Nombre AS Categoria\n",
        "FROM Bus as b\n",
        "JOIN Categoria_Buss as cb\n",
        "ON b.Id_Categoria_Bus = cb.Id_Categoria_Buss;\n",
        "GO\n",
        "\n",
        "SELECT *\n",
        "FROM Vista_Buses;\n",
        "go"
      ]
    }
  ],
  "metadata": {
    "colab": {
      "provenance": []
    },
    "kernelspec": {
      "display_name": "Python 3",
      "name": "python3"
    },
    "language_info": {
      "name": "python"
    }
  },
  "nbformat": 4,
  "nbformat_minor": 0
}
